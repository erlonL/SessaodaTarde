{
 "cells": [
  {
   "attachments": {},
   "cell_type": "markdown",
   "id": "dffbb60d",
   "metadata": {},
   "source": [
    "# Requirements"
   ]
  },
  {
   "cell_type": "code",
   "execution_count": 2,
   "id": "4810bcdf",
   "metadata": {},
   "outputs": [],
   "source": [
    "import re\n",
    "import pandas as pd\n",
    "from bs4 import BeautifulSoup\n",
    "import requests"
   ]
  },
  {
   "cell_type": "code",
   "execution_count": 3,
   "id": "a5ffedbf",
   "metadata": {},
   "outputs": [],
   "source": [
    "url = (\"https://tvglobo.fandom.com/pt-br/wiki/Lista_de_filmes_exibidos_na_Sess%C3%A3o_da_Tarde#2022\")\n",
    "\n",
    "html = requests.get(url).text\n",
    "soup = BeautifulSoup(html, \"html.parser\") # parser - processa"
   ]
  },
  {
   "attachments": {},
   "cell_type": "markdown",
   "id": "16d4e607",
   "metadata": {},
   "source": [
    "# Data from fandom site"
   ]
  },
  {
   "cell_type": "code",
   "execution_count": 4,
   "id": "690aa4d5",
   "metadata": {},
   "outputs": [],
   "source": [
    "output = soup(\"div\", \"mw-parser-output\")\n",
    "output = output[0]"
   ]
  },
  {
   "cell_type": "code",
   "execution_count": 5,
   "id": "613751e3",
   "metadata": {},
   "outputs": [],
   "source": [
    "anos = output.find_all('h2')\n",
    "meses = output.find_all('h3')\n",
    "filmes = output.find_all('ul')[51:]\n",
    "anos = anos[1:]\n",
    "#anos\n",
    "#meses\n",
    "#filmes\n",
    "#meses[0].findNextSibling('ul')"
   ]
  },
  {
   "cell_type": "code",
   "execution_count": 6,
   "id": "34ed411c",
   "metadata": {},
   "outputs": [
    {
     "data": {
      "text/plain": [
       "'2023'"
      ]
     },
     "execution_count": 6,
     "metadata": {},
     "output_type": "execute_result"
    }
   ],
   "source": [
    "filmes[6].findPreviousSibling('h3').findPreviousSibling('h2').text"
   ]
  },
  {
   "cell_type": "code",
   "execution_count": 7,
   "id": "e41d02b0",
   "metadata": {},
   "outputs": [],
   "source": [
    "lista_filmes = []"
   ]
  },
  {
   "cell_type": "code",
   "execution_count": 8,
   "id": "814079d3",
   "metadata": {},
   "outputs": [],
   "source": [
    "for lista in filmes:\n",
    "    for filme in lista.find_all('li'):\n",
    "        ano = lista.findPreviousSibling('h2').text\n",
    "        # print(lista.findPreviousSibling('h3').text) # - mes\n",
    "        # print(filme.text)\n",
    "\n",
    "        data = filme.text[:5]\n",
    "        data = data.replace('/', '-')\n",
    "\n",
    "        data = f'{ano}-{data[-2:]}-{data[:-3]}' # 2000-12-31\n",
    "        titulo = filme.text[8:]\n",
    "\n",
    "        if '(' in titulo:\n",
    "            padrao = r\"\\((.*?)\\)\"\n",
    "\n",
    "            comment = re.search(padrao, titulo).group(1)\n",
    "            titulo = re.sub(padrao, \"\", titulo)\n",
    "        else:\n",
    "            comment = ''\n",
    "\n",
    "        filme_info = {\n",
    "            'date': data,\n",
    "            'title': titulo,\n",
    "            'comments': comment\n",
    "        }\n",
    "\n",
    "        lista_filmes.append(filme_info)"
   ]
  },
  {
   "cell_type": "code",
   "execution_count": 10,
   "id": "b1ecbf1f",
   "metadata": {},
   "outputs": [],
   "source": [
    "df = pd.DataFrame(lista_filmes)\n",
    "df.to_csv('datasets/whole_century.csv', index=False)"
   ]
  }
 ],
 "metadata": {
  "kernelspec": {
   "display_name": "Python 3 (ipykernel)",
   "language": "python",
   "name": "python3"
  },
  "language_info": {
   "codemirror_mode": {
    "name": "ipython",
    "version": 3
   },
   "file_extension": ".py",
   "mimetype": "text/x-python",
   "name": "python",
   "nbconvert_exporter": "python",
   "pygments_lexer": "ipython3",
   "version": "3.10.12"
  }
 },
 "nbformat": 4,
 "nbformat_minor": 5
}
